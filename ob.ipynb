{
 "cells": [
  {
   "cell_type": "code",
   "execution_count": 24,
   "metadata": {},
   "outputs": [],
   "source": [
    "import keras\n",
    "from keras.datasets import cifar100\n",
    "from keras.preprocessing.image import ImageDataGenerator\n",
    "from keras.models import Sequential\n",
    "from keras.layers import Dense, Dropout, Activation, Flatten\n",
    "from keras.layers import Conv2D, MaxPooling2D\n",
    "from keras.optimizers import SGD, RMSprop\n",
    "\n",
    "from keras.callbacks import TensorBoard, EarlyStopping, ModelCheckpoint\n",
    "from keras.utils import plot_model\n",
    "\n",
    "import pandas as pd\n",
    "import numpy as np\n",
    "import matplotlib.pyplot as plt\n",
    "\n",
    "import tensorflow as tf\n",
    "from keras import backend as K\n",
    "import keras.backend.tensorflow_backend as KTF\n",
    "K.clear_session()\n",
    "config = tf.ConfigProto()  \n",
    "config.gpu_options.allow_growth=True   \n",
    "session = tf.Session(config=config)\n",
    "KTF.set_session(session)"
   ]
  },
  {
   "cell_type": "code",
   "execution_count": 25,
   "metadata": {},
   "outputs": [],
   "source": [
    "(x_train,y_train),(x_test,y_test) = cifar100.load_data()"
   ]
  },
  {
   "cell_type": "code",
   "execution_count": 26,
   "metadata": {},
   "outputs": [
    {
     "name": "stdout",
     "output_type": "stream",
     "text": [
      "(50000, 32, 32, 3) (50000, 1)\n",
      "(10000, 32, 32, 3) (10000, 1)\n"
     ]
    }
   ],
   "source": [
    "print(x_train.shape, y_train.shape)\n",
    "print(x_test.shape, y_test.shape)"
   ]
  },
  {
   "cell_type": "code",
   "execution_count": 27,
   "metadata": {},
   "outputs": [
    {
     "data": {
      "image/png": "[encoded data removed]",
      "text/plain": [
       "<Figure size 432x288 with 1 Axes>"
      ]
     },
     "metadata": {
      "needs_background": "light"
     },
     "output_type": "display_data"
    },
    {
     "data": {
      "image/png": "[encoded data removed]",
      "text/plain": [
       "<Figure size 432x288 with 1 Axes>"
      ]
     },
     "metadata": {
      "needs_background": "light"
     },
     "output_type": "display_data"
    }
   ],
   "source": [
    "plt.imshow(x_train[0])\n",
    "plt.show()\n",
    "plt.imshow(x_train[1])\n",
    "plt.show()"
   ]
  },
  {
   "cell_type": "code",
   "execution_count": 28,
   "metadata": {},
   "outputs": [],
   "source": [
    "x_train = x_train / 255\n",
    "x_test = x_test / 255\n",
    "y_train = keras.utils.np_utils.to_categorical(y_train, 100)\n",
    "y_test = keras.utils.np_utils.to_categorical(y_test, 100)"
   ]
  },
  {
   "cell_type": "code",
   "execution_count": 29,
   "metadata": {},
   "outputs": [],
   "source": [
    "model = Sequential()"
   ]
  },
  {
   "cell_type": "code",
   "execution_count": 30,
   "metadata": {},
   "outputs": [],
   "source": [
    "model.add(Conv2D(filters=128, kernel_size=(3, 3), padding='same', input_shape=(32, 32, 3)))\n",
    "model.add(Activation('relu'))\n",
    "model.add(Conv2D(filters=128, kernel_size=(3, 3)))\n",
    "model.add(Activation('relu'))\n",
    "model.add(MaxPooling2D(pool_size=(2, 2)))\n",
    "model.add(Dropout(0.1))"
   ]
  },
  {
   "cell_type": "code",
   "execution_count": 31,
   "metadata": {},
   "outputs": [],
   "source": [
    "model.add(Conv2D(256, (3, 3), padding='same'))\n",
    "model.add(Activation('relu'))\n",
    "model.add(Conv2D(256, (3, 3)))\n",
    "model.add(Activation('relu'))\n",
    "model.add(MaxPooling2D(pool_size=(2, 2)))\n",
    "model.add(Dropout(0.25))"
   ]
  },
  {
   "cell_type": "code",
   "execution_count": 32,
   "metadata": {},
   "outputs": [],
   "source": [
    "model.add(Conv2D(512, (3, 3), padding='same'))\n",
    "model.add(Activation('relu'))\n",
    "model.add(Conv2D(512, (3, 3)))\n",
    "model.add(Activation('relu'))\n",
    "model.add(MaxPooling2D(pool_size=(2, 2)))\n",
    "model.add(Dropout(0.5))"
   ]
  },
  {
   "cell_type": "code",
   "execution_count": 33,
   "metadata": {},
   "outputs": [],
   "source": [
    "model.add(Flatten())\n",
    "model.add(Dense(1024))\n",
    "model.add(Activation('relu'))\n",
    "model.add(Dropout(0.5))\n",
    "model.add(Dense(100))\n",
    "model.add(Activation('softmax'))"
   ]
  },
  {
   "cell_type": "code",
   "execution_count": 34,
   "metadata": {},
   "outputs": [
    {
     "name": "stdout",
     "output_type": "stream",
     "text": [
      "_________________________________________________________________\n",
      "Layer (type)                 Output Shape              Param #   \n",
      "=================================================================\n",
      "conv2d_1 (Conv2D)            (None, 32, 32, 128)       3584      \n",
      "_________________________________________________________________\n",
      "activation_1 (Activation)    (None, 32, 32, 128)       0         \n",
      "_________________________________________________________________\n",
      "conv2d_2 (Conv2D)            (None, 30, 30, 128)       147584    \n",
      "_________________________________________________________________\n",
      "activation_2 (Activation)    (None, 30, 30, 128)       0         \n",
      "_________________________________________________________________\n",
      "max_pooling2d_1 (MaxPooling2 (None, 15, 15, 128)       0         \n",
      "_________________________________________________________________\n",
      "dropout_1 (Dropout)          (None, 15, 15, 128)       0         \n",
      "_________________________________________________________________\n",
      "conv2d_3 (Conv2D)            (None, 15, 15, 256)       295168    \n",
      "_________________________________________________________________\n",
      "activation_3 (Activation)    (None, 15, 15, 256)       0         \n",
      "_________________________________________________________________\n",
      "conv2d_4 (Conv2D)            (None, 13, 13, 256)       590080    \n",
      "_________________________________________________________________\n",
      "activation_4 (Activation)    (None, 13, 13, 256)       0         \n",
      "_________________________________________________________________\n",
      "max_pooling2d_2 (MaxPooling2 (None, 6, 6, 256)         0         \n",
      "_________________________________________________________________\n",
      "dropout_2 (Dropout)          (None, 6, 6, 256)         0         \n",
      "_________________________________________________________________\n",
      "conv2d_5 (Conv2D)            (None, 6, 6, 512)         1180160   \n",
      "_________________________________________________________________\n",
      "activation_5 (Activation)    (None, 6, 6, 512)         0         \n",
      "_________________________________________________________________\n",
      "conv2d_6 (Conv2D)            (None, 4, 4, 512)         2359808   \n",
      "_________________________________________________________________\n",
      "activation_6 (Activation)    (None, 4, 4, 512)         0         \n",
      "_________________________________________________________________\n",
      "max_pooling2d_3 (MaxPooling2 (None, 2, 2, 512)         0         \n",
      "_________________________________________________________________\n",
      "dropout_3 (Dropout)          (None, 2, 2, 512)         0         \n",
      "_________________________________________________________________\n",
      "flatten_1 (Flatten)          (None, 2048)              0         \n",
      "_________________________________________________________________\n",
      "dense_1 (Dense)              (None, 1024)              2098176   \n",
      "_________________________________________________________________\n",
      "activation_7 (Activation)    (None, 1024)              0         \n",
      "_________________________________________________________________\n",
      "dropout_4 (Dropout)          (None, 1024)              0         \n",
      "_________________________________________________________________\n",
      "dense_2 (Dense)              (None, 100)               102500    \n",
      "_________________________________________________________________\n",
      "activation_8 (Activation)    (None, 100)               0         \n",
      "=================================================================\n",
      "Total params: 6,777,060\n",
      "Trainable params: 6,777,060\n",
      "Non-trainable params: 0\n",
      "_________________________________________________________________\n"
     ]
    }
   ],
   "source": [
    "model.summary()"
   ]
  },
  {
   "cell_type": "code",
   "execution_count": 35,
   "metadata": {},
   "outputs": [],
   "source": [
    "plot_model(model,to_file='model.png')"
   ]
  },
  {
   "cell_type": "code",
   "execution_count": 36,
   "metadata": {},
   "outputs": [],
   "source": [
    "opt = keras.optimizers.rmsprop(lr=0.0001, decay=1e-6)"
   ]
  },
  {
   "cell_type": "code",
   "execution_count": 37,
   "metadata": {},
   "outputs": [],
   "source": [
    "model.compile(loss='categorical_crossentropy', optimizer=opt, metrics=['accuracy'])"
   ]
  },
  {
   "cell_type": "code",
   "execution_count": 38,
   "metadata": {},
   "outputs": [],
   "source": [
    "tensorboard = TensorBoard(log_dir='./logs',\n",
    "                histogram_freq=0,\n",
    "                batch_size=32,\n",
    "                write_graph=True,\n",
    "                write_grads=False,\n",
    "                write_images=True,\n",
    "                embeddings_freq=0, \n",
    "                embeddings_layer_names=None, \n",
    "                embeddings_metadata=None\n",
    ")"
   ]
  },
  {
   "cell_type": "code",
   "execution_count": 39,
   "metadata": {},
   "outputs": [],
   "source": [
    "model_checkpoing = ModelCheckpoint(filepath='./tmp_models/weights.hdf5', \n",
    "                                   monitor='val_loss', \n",
    "                                   verbose=0, \n",
    "                                   save_best_only=True, \n",
    "                                   save_weights_only=False, \n",
    "                                   mode='auto', \n",
    "                                   period=1\n",
    ")"
   ]
  },
  {
   "cell_type": "code",
   "execution_count": 40,
   "metadata": {},
   "outputs": [],
   "source": [
    "earlystop = EarlyStopping(monitor='val_loss', \n",
    "                          patience=20, \n",
    "                          verbose=0, \n",
    "                          mode='auto'\n",
    ")"
   ]
  },
  {
   "cell_type": "code",
   "execution_count": 41,
   "metadata": {},
   "outputs": [],
   "source": [
    "datagen = ImageDataGenerator(rotation_range=20, zoom_range=0.15, horizontal_flip=True)"
   ]
  },
  {
   "cell_type": "code",
   "execution_count": 42,
   "metadata": {},
   "outputs": [],
   "source": [
    "datagen.fit(x_train)"
   ]
  },
  {
   "cell_type": "code",
   "execution_count": 43,
   "metadata": {},
   "outputs": [
    {
     "name": "stdout",
     "output_type": "stream",
     "text": [
      "Epoch 1/500\n",
      "781/781 [==============================] - 46s 59ms/step - loss: 4.3806 - acc: 0.0291 - val_loss: 4.0697 - val_acc: 0.0754\n",
      "Epoch 2/500\n",
      "781/781 [==============================] - 46s 59ms/step - loss: 3.9776 - acc: 0.0834 - val_loss: 3.6807 - val_acc: 0.1323\n",
      "Epoch 3/500\n",
      "781/781 [==============================] - 47s 60ms/step - loss: 3.6816 - acc: 0.1295 - val_loss: 3.4953 - val_acc: 0.1659\n",
      "Epoch 4/500\n",
      "781/781 [==============================] - 47s 60ms/step - loss: 3.4549 - acc: 0.1698 - val_loss: 3.1556 - val_acc: 0.2276\n",
      "Epoch 5/500\n",
      "781/781 [==============================] - 48s 61ms/step - loss: 3.2620 - acc: 0.2014 - val_loss: 3.0159 - val_acc: 0.2478\n",
      "Epoch 6/500\n",
      "781/781 [==============================] - 48s 61ms/step - loss: 3.1092 - acc: 0.2334 - val_loss: 2.8867 - val_acc: 0.2747\n",
      "Epoch 7/500\n",
      "781/781 [==============================] - 47s 60ms/step - loss: 2.9688 - acc: 0.2605 - val_loss: 2.7368 - val_acc: 0.3074\n",
      "Epoch 8/500\n",
      "781/781 [==============================] - 49s 63ms/step - loss: 2.8345 - acc: 0.2877 - val_loss: 2.7509 - val_acc: 0.3055\n",
      "Epoch 9/500\n",
      "781/781 [==============================] - 51s 65ms/step - loss: 2.7304 - acc: 0.3063 - val_loss: 2.7511 - val_acc: 0.3095\n",
      "Epoch 10/500\n",
      "781/781 [==============================] - 50s 64ms/step - loss: 2.6274 - acc: 0.3284 - val_loss: 2.5042 - val_acc: 0.3554\n",
      "Epoch 11/500\n",
      "781/781 [==============================] - 50s 64ms/step - loss: 2.5350 - acc: 0.3437 - val_loss: 2.2973 - val_acc: 0.4024\n",
      "Epoch 12/500\n",
      "781/781 [==============================] - 49s 63ms/step - loss: 2.4498 - acc: 0.3655 - val_loss: 2.2037 - val_acc: 0.4191\n",
      "Epoch 13/500\n",
      "781/781 [==============================] - 49s 63ms/step - loss: 2.3742 - acc: 0.3816 - val_loss: 2.2610 - val_acc: 0.4114\n",
      "Epoch 14/500\n",
      "781/781 [==============================] - 50s 64ms/step - loss: 2.2937 - acc: 0.3988 - val_loss: 2.1785 - val_acc: 0.4273\n",
      "Epoch 15/500\n",
      "781/781 [==============================] - 51s 65ms/step - loss: 2.2207 - acc: 0.4116 - val_loss: 2.0867 - val_acc: 0.4474\n",
      "Epoch 16/500\n",
      "781/781 [==============================] - 50s 64ms/step - loss: 2.1651 - acc: 0.4247 - val_loss: 1.9732 - val_acc: 0.4715\n",
      "Epoch 17/500\n",
      "781/781 [==============================] - 49s 63ms/step - loss: 2.1014 - acc: 0.4406 - val_loss: 1.9663 - val_acc: 0.4698\n",
      "Epoch 18/500\n",
      "781/781 [==============================] - 50s 63ms/step - loss: 2.0459 - acc: 0.4512 - val_loss: 1.9185 - val_acc: 0.4836\n",
      "Epoch 19/500\n",
      "781/781 [==============================] - 51s 65ms/step - loss: 2.0024 - acc: 0.4638 - val_loss: 1.9327 - val_acc: 0.4780\n",
      "Epoch 20/500\n",
      "781/781 [==============================] - 49s 62ms/step - loss: 1.9426 - acc: 0.4762 - val_loss: 1.9099 - val_acc: 0.4843\n",
      "Epoch 21/500\n",
      "781/781 [==============================] - 50s 64ms/step - loss: 1.8994 - acc: 0.4858 - val_loss: 2.0266 - val_acc: 0.4610\n",
      "Epoch 22/500\n",
      "781/781 [==============================] - 49s 63ms/step - loss: 1.8591 - acc: 0.4943 - val_loss: 1.8883 - val_acc: 0.4937\n",
      "Epoch 23/500\n",
      "781/781 [==============================] - 49s 63ms/step - loss: 1.8141 - acc: 0.5070 - val_loss: 1.7821 - val_acc: 0.5171\n",
      "Epoch 24/500\n",
      "781/781 [==============================] - 50s 64ms/step - loss: 1.7828 - acc: 0.5173 - val_loss: 1.7016 - val_acc: 0.5314\n",
      "Epoch 25/500\n",
      "781/781 [==============================] - 50s 64ms/step - loss: 1.7391 - acc: 0.5240 - val_loss: 1.7377 - val_acc: 0.5284\n",
      "Epoch 26/500\n",
      "781/781 [==============================] - 49s 63ms/step - loss: 1.7085 - acc: 0.5336 - val_loss: 1.6942 - val_acc: 0.5376\n",
      "Epoch 27/500\n",
      "781/781 [==============================] - 50s 64ms/step - loss: 1.6794 - acc: 0.5411 - val_loss: 1.7527 - val_acc: 0.5324\n",
      "Epoch 28/500\n",
      "781/781 [==============================] - 51s 65ms/step - loss: 1.6431 - acc: 0.5459 - val_loss: 1.6951 - val_acc: 0.5440\n",
      "Epoch 29/500\n",
      "781/781 [==============================] - 50s 64ms/step - loss: 1.6016 - acc: 0.5570 - val_loss: 1.6023 - val_acc: 0.5573\n",
      "Epoch 30/500\n",
      "781/781 [==============================] - 50s 64ms/step - loss: 1.5872 - acc: 0.5588 - val_loss: 1.6440 - val_acc: 0.5539\n",
      "Epoch 31/500\n",
      "781/781 [==============================] - 52s 67ms/step - loss: 1.5565 - acc: 0.5702 - val_loss: 1.7024 - val_acc: 0.5469\n",
      "Epoch 32/500\n",
      "781/781 [==============================] - 58s 74ms/step - loss: 1.5261 - acc: 0.5769 - val_loss: 1.6792 - val_acc: 0.5493\n",
      "Epoch 33/500\n",
      "781/781 [==============================] - 57s 73ms/step - loss: 1.5011 - acc: 0.5805 - val_loss: 1.6599 - val_acc: 0.5598\n",
      "Epoch 34/500\n",
      "781/781 [==============================] - 58s 75ms/step - loss: 1.4753 - acc: 0.5853 - val_loss: 1.6024 - val_acc: 0.5683\n",
      "Epoch 35/500\n",
      "781/781 [==============================] - 58s 74ms/step - loss: 1.4515 - acc: 0.5923 - val_loss: 1.6159 - val_acc: 0.5684\n",
      "Epoch 36/500\n",
      "781/781 [==============================] - 57s 73ms/step - loss: 1.4304 - acc: 0.5986 - val_loss: 1.6504 - val_acc: 0.5568\n",
      "Epoch 37/500\n",
      "781/781 [==============================] - 57s 73ms/step - loss: 1.4082 - acc: 0.6051 - val_loss: 1.6032 - val_acc: 0.5691\n",
      "Epoch 38/500\n",
      "781/781 [==============================] - 58s 74ms/step - loss: 1.3889 - acc: 0.6111 - val_loss: 1.5677 - val_acc: 0.5836\n",
      "Epoch 39/500\n",
      "781/781 [==============================] - 58s 74ms/step - loss: 1.3664 - acc: 0.6180 - val_loss: 1.5846 - val_acc: 0.5791\n",
      "Epoch 40/500\n",
      "781/781 [==============================] - 58s 74ms/step - loss: 1.3423 - acc: 0.6232 - val_loss: 1.6301 - val_acc: 0.5742\n",
      "Epoch 41/500\n",
      "781/781 [==============================] - 72s 93ms/step - loss: 1.1108 - acc: 0.6843 - val_loss: 1.5736 - val_acc: 0.6069\n",
      "Epoch 62/500\n",
      "781/781 [==============================] - 67s 86ms/step - loss: 1.1012 - acc: 0.6838 - val_loss: 1.6319 - val_acc: 0.5822\n",
      "Epoch 63/500\n",
      "781/781 [==============================] - 67s 86ms/step - loss: 1.1026 - acc: 0.6854 - val_loss: 1.6252 - val_acc: 0.5967\n",
      "Epoch 64/500\n",
      "781/781 [==============================] - 67s 86ms/step - loss: 1.0988 - acc: 0.6854 - val_loss: 1.4979 - val_acc: 0.6183\n",
      "Epoch 65/500\n",
      "781/781 [==============================] - 69s 89ms/step - loss: 1.0747 - acc: 0.6919 - val_loss: 1.5127 - val_acc: 0.6114\n",
      "Epoch 66/500\n",
      "781/781 [==============================] - 74s 95ms/step - loss: 1.0941 - acc: 0.6891 - val_loss: 1.4711 - val_acc: 0.6149\n",
      "Epoch 67/500\n",
      "781/781 [==============================] - 76s 98ms/step - loss: 1.0777 - acc: 0.6921 - val_loss: 1.5966 - val_acc: 0.5983\n",
      "Epoch 68/500\n",
      "781/781 [==============================] - 79s 102ms/step - loss: 1.0737 - acc: 0.6929 - val_loss: 1.5705 - val_acc: 0.6002\n",
      "Epoch 69/500\n",
      "781/781 [==============================] - 76s 98ms/step - loss: 1.0718 - acc: 0.6940 - val_loss: 1.5431 - val_acc: 0.6116\n",
      "Epoch 70/500\n",
      "781/781 [==============================] - 77s 98ms/step - loss: 1.0710 - acc: 0.6983 - val_loss: 1.6391 - val_acc: 0.5950\n",
      "Epoch 71/500\n",
      "781/781 [==============================] - 73s 94ms/step - loss: 1.0636 - acc: 0.6970 - val_loss: 1.5054 - val_acc: 0.6111\n",
      "Epoch 72/500\n",
      "781/781 [==============================] - 66s 85ms/step - loss: 1.0658 - acc: 0.6950 - val_loss: 1.5364 - val_acc: 0.6037\n",
      "Epoch 73/500\n",
      "781/781 [==============================] - 66s 84ms/step - loss: 1.0583 - acc: 0.6988 - val_loss: 1.5486 - val_acc: 0.6151\n",
      "Epoch 74/500\n",
      "781/781 [==============================] - 64s 81ms/step - loss: 1.0627 - acc: 0.6995 - val_loss: 1.6186 - val_acc: 0.5945\n",
      "Epoch 75/500\n",
      "781/781 [==============================] - 67s 86ms/step - loss: 1.0569 - acc: 0.6980 - val_loss: 1.6119 - val_acc: 0.5851\n",
      "Epoch 76/500\n",
      "276/781 [=========>....................] - ETA: 38s - loss: 1.0557 - acc: 0.7031Epoch 100/500\n",
      "781/781 [==============================] - 66s 84ms/step - loss: 1.1027 - acc: 0.6948 - val_loss: 1.5756 - val_acc: 0.5977\n",
      "Epoch 101/500\n",
      "781/781 [==============================] - 65s 84ms/step - loss: 1.0954 - acc: 0.6961 - val_loss: 1.6063 - val_acc: 0.6073\n",
      "Epoch 103/500\n",
      "781/781 [==============================] - 65s 83ms/step - loss: 1.1194 - acc: 0.6912 - val_loss: 1.5403 - val_acc: 0.6077\n",
      "Epoch 106/500\n",
      "781/781 [==============================] - 62s 79ms/step - loss: 1.1288 - acc: 0.6903 - val_loss: 1.6844 - val_acc: 0.5750\n",
      "Epoch 110/500\n",
      "781/781 [==============================] - 64s 82ms/step - loss: 1.1496 - acc: 0.6872 - val_loss: 1.6423 - val_acc: 0.5931\n",
      "Epoch 114/500\n",
      "781/781 [==============================] - 64s 82ms/step - loss: 1.1696 - acc: 0.6812 - val_loss: 1.6629 - val_acc: 0.6036\n",
      "Epoch 118/500\n",
      "781/781 [==============================] - 67s 85ms/step - loss: 1.1914 - acc: 0.6786 - val_loss: 1.5916 - val_acc: 0.6014\n",
      "Epoch 122/500\n",
      "781/781 [==============================] - 68s 87ms/step - loss: 1.2169 - acc: 0.6746 - val_loss: 1.6187 - val_acc: 0.6067\n",
      "Epoch 126/500\n",
      "781/781 [==============================] - 65s 83ms/step - loss: 1.2340 - acc: 0.6727 - val_loss: 1.7047 - val_acc: 0.5863\n",
      "Epoch 130/500\n",
      "781/781 [==============================] - 67s 86ms/step - loss: 1.2639 - acc: 0.6658 - val_loss: 1.7610 - val_acc: 0.5942\n",
      "Epoch 134/500\n",
      "781/781 [==============================] - 63s 80ms/step - loss: 1.2777 - acc: 0.6651 - val_loss: 1.7319 - val_acc: 0.5992\n",
      "Epoch 138/500\n",
      "781/781 [==============================] - 68s 87ms/step - loss: 1.2975 - acc: 0.6627 - val_loss: 1.6423 - val_acc: 0.6030\n",
      "Epoch 141/500\n",
      "781/781 [==============================] - 65s 83ms/step - loss: 1.3040 - acc: 0.6614 - val_loss: 1.7124 - val_acc: 0.5845\n",
      "Epoch 142/500\n",
      "160/781 [=====>........................] - ETA: 39s - loss: 1.3315 - acc: 0.6623Epoch 145/500\n",
      "781/781 [==============================] - 62s 79ms/step - loss: 1.3372 - acc: 0.6516 - val_loss: 1.6402 - val_acc: 0.5991\n",
      "Epoch 146/500\n",
      "781/781 [==============================] - 65s 83ms/step - loss: 1.3678 - acc: 0.6495 - val_loss: 1.6487 - val_acc: 0.5958\n",
      "Epoch 149/500\n",
      "781/781 [==============================] - 61s 78ms/step - loss: 1.4009 - acc: 0.6404 - val_loss: 1.7341 - val_acc: 0.5853\n",
      "Epoch 153/500\n",
      "781/781 [==============================] - 60s 77ms/step - loss: 1.4071 - acc: 0.6392 - val_loss: 1.6331 - val_acc: 0.6098\n",
      "Epoch 157/500\n",
      "781/781 [==============================] - 65s 83ms/step - loss: 1.4116 - acc: 0.6413 - val_loss: 1.7033 - val_acc: 0.5973\n",
      "Epoch 158/500\n",
      "781/781 [==============================] - 58s 75ms/step - loss: 1.4316 - acc: 0.6361 - val_loss: 1.7188 - val_acc: 0.5923\n",
      "Epoch 161/500\n",
      "781/781 [==============================] - 57s 72ms/step - loss: 1.4605 - acc: 0.6323 - val_loss: 1.7103 - val_acc: 0.6032\n",
      "Epoch 166/500\n",
      "781/781 [==============================] - 57s 73ms/step - loss: 1.5101 - acc: 0.6206 - val_loss: 1.7002 - val_acc: 0.6016\n",
      "Epoch 170/500\n",
      "781/781 [==============================] - 58s 75ms/step - loss: 1.5653 - acc: 0.6099 - val_loss: 1.7402 - val_acc: 0.5850\n",
      "Epoch 174/500\n",
      "781/781 [==============================] - 57s 73ms/step - loss: 1.5668 - acc: 0.6064 - val_loss: 1.7986 - val_acc: 0.5871\n",
      "Epoch 175/500\n",
      "  1/781 [..............................] - ETA: 47s - loss: 1.6374 - acc: 0.6250Epoch 178/500\n",
      "781/781 [==============================] - 56s 72ms/step - loss: 1.6229 - acc: 0.6029 - val_loss: 1.7967 - val_acc: 0.5666\n",
      "Epoch 179/500\n",
      "781/781 [==============================] - 57s 73ms/step - loss: 1.6452 - acc: 0.5928 - val_loss: 1.8624 - val_acc: 0.5757\n",
      "Epoch 183/500\n",
      "781/781 [==============================] - 62s 80ms/step - loss: 1.6472 - acc: 0.5926 - val_loss: 1.8428 - val_acc: 0.5608\n",
      "Epoch 187/500\n",
      "781/781 [==============================] - 58s 74ms/step - loss: 1.7068 - acc: 0.5826 - val_loss: 2.0368 - val_acc: 0.5688\n",
      "Epoch 192/500\n",
      "781/781 [==============================] - 60s 76ms/step - loss: 1.7361 - acc: 0.5723 - val_loss: 1.6397 - val_acc: 0.5812\n",
      "Epoch 196/500\n",
      "781/781 [==============================] - 58s 75ms/step - loss: 1.7267 - acc: 0.5778 - val_loss: 1.6286 - val_acc: 0.5984\n",
      "Epoch 197/500\n",
      "781/781 [==============================] - 62s 79ms/step - loss: 1.7669 - acc: 0.5672 - val_loss: 1.8129 - val_acc: 0.5656\n",
      "Epoch 201/500\n",
      "781/781 [==============================] - 59s 76ms/step - loss: 1.8187 - acc: 0.5574 - val_loss: 1.8511 - val_acc: 0.5530\n",
      "Epoch 205/500\n",
      "781/781 [==============================] - 59s 75ms/step - loss: 1.8707 - acc: 0.5480 - val_loss: 1.9811 - val_acc: 0.5296\n",
      "Epoch 209/500\n",
      "781/781 [==============================] - 62s 80ms/step - loss: 1.9403 - acc: 0.5353 - val_loss: 1.9941 - val_acc: 0.5272\n",
      "Epoch 213/500\n",
      "781/781 [==============================] - 58s 74ms/step - loss: 1.9970 - acc: 0.5233 - val_loss: 1.9177 - val_acc: 0.5583\n",
      "Epoch 217/500\n",
      "781/781 [==============================] - 60s 77ms/step - loss: 2.0483 - acc: 0.5163 - val_loss: 1.9641 - val_acc: 0.5418\n",
      "Epoch 221/500\n",
      "781/781 [==============================] - 59s 76ms/step - loss: 2.0913 - acc: 0.5042 - val_loss: 2.2250 - val_acc: 0.4910\n",
      "Epoch 226/500\n",
      "781/781 [==============================] - 60s 76ms/step - loss: 2.1472 - acc: 0.4993 - val_loss: 1.9972 - val_acc: 0.5345\n",
      "Epoch 230/500\n",
      "781/781 [==============================] - 63s 80ms/step - loss: 2.2014 - acc: 0.4886 - val_loss: 2.0957 - val_acc: 0.5097\n",
      "Epoch 234/500\n",
      "781/781 [==============================] - 61s 78ms/step - loss: 2.2470 - acc: 0.4760 - val_loss: 2.0976 - val_acc: 0.5184\n",
      "Epoch 238/500\n",
      "781/781 [==============================] - 59s 76ms/step - loss: 2.2729 - acc: 0.4696 - val_loss: 2.0865 - val_acc: 0.5032\n",
      "Epoch 242/500\n",
      "781/781 [==============================] - 60s 77ms/step - loss: 2.3165 - acc: 0.4618 - val_loss: 2.0661 - val_acc: 0.4864\n",
      "Epoch 246/500\n",
      "781/781 [==============================] - 58s 74ms/step - loss: 2.3989 - acc: 0.4453 - val_loss: 2.3708 - val_acc: 0.4381\n",
      "Epoch 250/500\n",
      "781/781 [==============================] - 58s 74ms/step - loss: 2.4473 - acc: 0.4400 - val_loss: 2.0638 - val_acc: 0.5094\n",
      "Epoch 254/500\n",
      "781/781 [==============================] - 61s 78ms/step - loss: 2.5139 - acc: 0.4234 - val_loss: 2.0549 - val_acc: 0.5149\n",
      "Epoch 259/500\n",
      "492/781 [=================>............] - ETA: 21s - loss: 2.5019 - acc: 0.4228Epoch 263/500\n",
      "781/781 [==============================] - 60s 77ms/step - loss: 2.6435 - acc: 0.3948 - val_loss: 2.1539 - val_acc: 0.4967\n",
      "Epoch 268/500\n",
      "781/781 [==============================] - 62s 80ms/step - loss: 2.6956 - acc: 0.3863 - val_loss: 2.2307 - val_acc: 0.5078\n",
      "Epoch 272/500\n",
      "735/781 [===========================>..] - ETA: 3s - loss: 2.8024 - acc: 0.3654Epoch 280/500\n",
      "781/781 [==============================] - 61s 78ms/step - loss: 2.9633 - acc: 0.3333 - val_loss: 2.4627 - val_acc: 0.4278\n",
      "Epoch 285/500\n",
      "781/781 [==============================] - 61s 78ms/step - loss: 3.0466 - acc: 0.3181 - val_loss: 2.5602 - val_acc: 0.3960\n",
      "Epoch 289/500\n",
      "781/781 [==============================] - 61s 79ms/step - loss: 3.1644 - acc: 0.2997 - val_loss: 2.7450 - val_acc: 0.3730\n",
      "Epoch 294/500\n",
      "781/781 [==============================] - 60s 76ms/step - loss: 3.2405 - acc: 0.2797 - val_loss: 2.9555 - val_acc: 0.3565\n",
      "Epoch 298/500\n",
      "781/781 [==============================] - 63s 81ms/step - loss: 3.3019 - acc: 0.2697 - val_loss: 3.1826 - val_acc: 0.2709\n",
      "Epoch 302/500\n",
      "781/781 [==============================] - 61s 78ms/step - loss: 3.4001 - acc: 0.2463 - val_loss: 3.0347 - val_acc: 0.2994\n",
      "Epoch 306/500\n",
      "781/781 [==============================] - 62s 79ms/step - loss: 3.4750 - acc: 0.2382 - val_loss: 3.1453 - val_acc: 0.2534\n",
      "Epoch 310/500\n",
      "781/781 [==============================] - 62s 79ms/step - loss: 3.5915 - acc: 0.2115 - val_loss: 3.5894 - val_acc: 0.1822\n",
      "Epoch 315/500\n",
      "781/781 [==============================] - 61s 78ms/step - loss: 3.6622 - acc: 0.1990 - val_loss: 3.2069 - val_acc: 0.3113\n",
      "Epoch 319/500\n",
      "781/781 [==============================] - 62s 80ms/step - loss: 3.8214 - acc: 0.1689 - val_loss: 3.3807 - val_acc: 0.2355\n",
      "Epoch 323/500\n",
      "781/781 [==============================] - 64s 82ms/step - loss: 3.9169 - acc: 0.1504 - val_loss: 3.3663 - val_acc: 0.2477\n",
      "Epoch 327/500\n",
      "781/781 [==============================] - 64s 82ms/step - loss: 4.0287 - acc: 0.1317 - val_loss: 3.8011 - val_acc: 0.1142\n",
      "Epoch 331/500\n",
      "781/781 [==============================] - 66s 84ms/step - loss: 4.1404 - acc: 0.1123 - val_loss: 3.9879 - val_acc: 0.1400\n",
      "Epoch 335/500\n",
      "781/781 [==============================] - 66s 85ms/step - loss: 4.2483 - acc: 0.0919 - val_loss: 3.9224 - val_acc: 0.0916\n",
      "Epoch 339/500\n",
      "398/781 [==============>...............] - ETA: 32s - loss: 4.2974 - acc: 0.0850Epoch 343/500\n",
      "781/781 [==============================] - 62s 79ms/step - loss: 4.4914 - acc: 0.0510 - val_loss: 4.1645 - val_acc: 0.0661\n",
      "Epoch 348/500\n",
      "781/781 [==============================] - 56s 72ms/step - loss: 4.6722 - acc: 0.0167 - val_loss: 4.5704 - val_acc: 0.0178\n",
      "Epoch 352/500\n",
      "781/781 [==============================] - 56s 72ms/step - loss: 4.6764 - acc: 0.0140 - val_loss: 4.5917 - val_acc: 0.0131\n",
      "Epoch 357/500\n",
      "781/781 [==============================] - 56s 71ms/step - loss: 4.6229 - acc: 0.0107 - val_loss: 4.6081 - val_acc: 0.0109\n",
      "Epoch 366/500\n",
      "781/781 [==============================] - 56s 72ms/step - loss: 4.6166 - acc: 0.0104 - val_loss: 4.6112 - val_acc: 0.0100\n",
      "Epoch 371/500\n",
      "781/781 [==============================] - 56s 72ms/step - loss: 4.6091 - acc: 0.0101 - val_loss: 4.6084 - val_acc: 0.0102\n",
      "Epoch 376/500\n",
      "781/781 [==============================] - 61s 79ms/step - loss: 4.6266 - acc: 0.0117 - val_loss: 4.5996 - val_acc: 0.0130\n",
      "Epoch 381/500\n",
      "781/781 [==============================] - 55s 70ms/step - loss: 4.6140 - acc: 0.0126 - val_loss: 4.5626 - val_acc: 0.0152\n",
      "Epoch 390/500\n",
      "781/781 [==============================] - 57s 73ms/step - loss: 4.6039 - acc: 0.0132 - val_loss: 4.5361 - val_acc: 0.0183\n",
      "Epoch 394/500\n",
      "781/781 [==============================] - 58s 74ms/step - loss: 4.5966 - acc: 0.0132 - val_loss: 4.5128 - val_acc: 0.0183\n",
      "Epoch 399/500\n",
      "781/781 [==============================] - 57s 72ms/step - loss: 4.5983 - acc: 0.0146 - val_loss: 4.5230 - val_acc: 0.0164\n",
      "Epoch 403/500\n",
      "781/781 [==============================] - 58s 74ms/step - loss: 4.5694 - acc: 0.0161 - val_loss: 4.5229 - val_acc: 0.0175\n",
      "Epoch 408/500\n",
      "781/781 [==============================] - 65s 83ms/step - loss: 4.5699 - acc: 0.0162 - val_loss: 4.4738 - val_acc: 0.0221\n",
      "Epoch 412/500\n",
      "781/781 [==============================] - 58s 75ms/step - loss: 4.5530 - acc: 0.0171 - val_loss: 4.4974 - val_acc: 0.0189\n",
      "Epoch 417/500\n",
      "781/781 [==============================] - 58s 74ms/step - loss: 4.5458 - acc: 0.0181 - val_loss: 4.4584 - val_acc: 0.0223\n",
      "Epoch 422/500\n",
      "781/781 [==============================] - 60s 77ms/step - loss: 4.5099 - acc: 0.0211 - val_loss: 4.4769 - val_acc: 0.0229\n",
      "Epoch 426/500\n",
      "781/781 [==============================] - 57s 73ms/step - loss: 4.4963 - acc: 0.0223 - val_loss: 4.4336 - val_acc: 0.0322\n",
      "Epoch 431/500\n",
      "781/781 [==============================] - 57s 73ms/step - loss: 4.4661 - acc: 0.0261 - val_loss: 4.3498 - val_acc: 0.0425\n",
      "Epoch 436/500\n",
      "781/781 [==============================] - 61s 78ms/step - loss: 4.4261 - acc: 0.0287 - val_loss: 4.3237 - val_acc: 0.0400\n",
      "Epoch 449/500\n",
      "781/781 [==============================] - 65s 83ms/step - loss: 4.4181 - acc: 0.0289 - val_loss: 4.3433 - val_acc: 0.0380\n",
      "Epoch 453/500\n",
      "781/781 [==============================] - 66s 84ms/step - loss: 4.4020 - acc: 0.0305 - val_loss: 4.3823 - val_acc: 0.0327\n",
      "Epoch 458/500\n",
      "781/781 [==============================] - 62s 79ms/step - loss: 4.3903 - acc: 0.0303 - val_loss: 4.4126 - val_acc: 0.0266\n",
      "Epoch 462/500\n",
      "781/781 [==============================] - 66s 84ms/step - loss: 4.3037 - acc: 0.0422 - val_loss: 4.3714 - val_acc: 0.0321\n",
      "Epoch 479/500\n",
      "781/781 [==============================] - 65s 83ms/step - loss: 4.2820 - acc: 0.0462 - val_loss: 4.2750 - val_acc: 0.0509\n",
      "Epoch 483/500\n",
      "550/781 [====================>.........] - ETA: 17s - loss: 4.2701 - acc: 0.0447Epoch 491/500\n",
      "781/781 [==============================] - 62s 79ms/step - loss: 4.2316 - acc: 0.0502 - val_loss: 4.2196 - val_acc: 0.0549\n",
      "Epoch 496/500\n",
      "781/781 [==============================] - 63s 80ms/step - loss: 4.2226 - acc: 0.0500 - val_loss: 4.2626 - val_acc: 0.0447\n"
     ]
    }
   ],
   "source": [
    "history = model.fit_generator(datagen.flow(x_train, y_train, batch_size=64), \n",
    "                              steps_per_epoch=x_train.shape[0] // 64, \n",
    "                              epochs=300, \n",
    "                              validation_data=(x_test, y_test), \n",
    "                              workers=4, \n",
    "                              verbose=1, \n",
    "                              callbacks=[tensorboard, model_checkpoing]\n",
    ")"
   ]
  },
  {
   "cell_type": "code",
   "execution_count": 46,
   "metadata": {},
   "outputs": [],
   "source": [
    "model.save('full_model.h5')"
   ]
  },
  {
   "cell_type": "code",
   "execution_count": 50,
   "metadata": {},
   "outputs": [
    {
     "data": {
      "image/png": "[encoded data removed]",
      "text/plain": [
       "<Figure size 432x288 with 1 Axes>"
      ]
     },
     "metadata": {
      "needs_background": "light"
     },
     "output_type": "display_data"
    }
   ],
   "source": [
    "fig = plt.figure()\n",
    "plt.plot(history.history['acc'])\n",
    "plt.plot(history.history['val_acc'])\n",
    "plt.title('model accuracy')\n",
    "plt.ylabel('accuracy')\n",
    "plt.xlabel('epoch')\n",
    "plt.legend(['train', 'test'], loc='upper right')\n",
    "#\n",
    "fig.savefig('accuracy.png')"
   ]
  },
  {
   "cell_type": "code",
   "execution_count": 51,
   "metadata": {},
   "outputs": [
    {
     "data": {
      "image/png": "[encoded data removed]",
      "text/plain": [
       "<Figure size 432x288 with 1 Axes>"
      ]
     },
     "metadata": {
      "needs_background": "light"
     },
     "output_type": "display_data"
    }
   ],
   "source": [
    "fig = plt.figure()\n",
    "plt.plot(history.history['loss'])\n",
    "plt.plot(history.history['val_loss'])\n",
    "plt.title('model loss')\n",
    "plt.ylabel('loss')\n",
    "plt.xlabel('epoch')\n",
    "plt.legend(['train', 'test'], loc='lower right')\n",
    "#\n",
    "fig.savefig('loss.png')"
   ]
  },
  {
   "cell_type": "code",
   "execution_count": null,
   "metadata": {},
   "outputs": [],
   "source": []
  }
 ],
 "metadata": {
  "kernelspec": {
   "display_name": "Python 3",
   "language": "python",
   "name": "python3"
  },
  "language_info": {
   "codemirror_mode": {
    "name": "ipython",
    "version": 3
   },
   "file_extension": ".py",
   "mimetype": "text/x-python",
   "name": "python",
   "nbconvert_exporter": "python",
   "pygments_lexer": "ipython3",
   "version": "3.6.6"
  }
 },
 "nbformat": 4,
 "nbformat_minor": 2
}
